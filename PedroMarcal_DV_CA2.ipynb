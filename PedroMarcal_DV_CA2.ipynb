{
 "cells": [
  {
   "cell_type": "markdown",
   "id": "2b36e546",
   "metadata": {},
   "source": [
    "## CA Artificial Intelligence\n",
    "\n",
    "Lecturer(s):\n",
    "Submission Date:\n",
    "Student Name:\n",
    "Student Email: \n",
    "Student Number:"
   ]
  },
  {
   "cell_type": "markdown",
   "id": "37a18762",
   "metadata": {},
   "source": [
    "### Introduction\n",
    "\n",
    "Analyse given graph and provide answer to the following question: \n",
    "\n",
    "\n",
    "1\n",
    "(a)\tThe graph in Fig. 1 is a visualisation of the problem. \n",
    "(i)\tIdentify the differences between a graph and a tree.\n",
    "(ii)\tExplain in detail how the graph is an abstraction of the problem.\n",
    "(iii)\tIdentify the advantages of using a visualisation such as the one shown in Fig. 1.\n",
    "(b)\tDemonstrate how Dijkstra’s algorithm would find the shortest path to the solution in Fig.1 through diagrams and written explanation of each stage.\n",
    "2\t\n",
    "The creator of the puzzle has been told that the A* algorithm is more efficient at finding the shortest path because it uses heuristics. Compare the performance of Dijkstra’s algorithm and the A* search algorithm, referring to heuristics, to find the shortest path to the problem by implementing both algorithms programmatically and comparing the solutions generated in Mark-down. Refer to the complexity of the algorithms and compare the actual time it takes for the solutions to be processed.\n",
    "\n"
   ]
  },
  {
   "cell_type": "code",
   "execution_count": 1,
   "id": "d857373f",
   "metadata": {},
   "outputs": [
    {
     "data": {
      "text/html": [
       "<img src =\"graph.png\" width = 400, height = 100>\n"
      ],
      "text/plain": [
       "<IPython.core.display.HTML object>"
      ]
     },
     "metadata": {},
     "output_type": "display_data"
    }
   ],
   "source": [
    "%%html\n",
    "<img src =\"graph.png\" width = 400, height = 100>"
   ]
  },
  {
   "cell_type": "markdown",
   "id": "63625274",
   "metadata": {},
   "source": [
    "### Tasks\n",
    "\n",
    "1\n",
    "https://www.geeksforgeeks.org/difference-between-graph-and-tree/\n",
    "https://www.quora.com/What-is-the-practical-application-of-trees-or-graphs-in-data-structures\n",
    "\n",
    "a-i) By definition, graph is a data structure compouded by vertices, or nodes and edges, that are what connect the vertices, graphs can be direct or indirect, which means that the edges can go a specific direction or not and can contain loops and cycles.\n",
    "Tree is a specific type of graph that also contains vertices and edges, this type of graph structure can only be connected, direct, it has to follow a standard point and without any loops or cycles.\n",
    "\n",
    "Graphs are applied in situations when trying to find how to get from point A to point B on the fastest time or how to connect something on the shortest way.\n",
    "Tree are applied in situations where there is hierarchy, such as Boss-Employee, and can be used to maintain sorted but changing collections of data since the structure allow you to search for existing values and insert new values. "
   ]
  },
  {
   "cell_type": "markdown",
   "id": "8852c19a",
   "metadata": {},
   "source": [
    "a-ii) A graph is an abstraction of a problem because it allow us to visualize and identify all the options from different points of view, most of the time by using searching algorithms in order to solve our problem. With graphs, we can have more than one good solution, it does not mean that is the best solution to choose, but it will give different solutions, more than one way to reproduce the solution. Examples of graphs being used to solve problem is, when you have to connect to point A from point X, for various reasons, such as connecting train stations with the shortest path or connecting points to create a network. \n",
    "In the given graph, since it is a gaming graph, we can assume that we will have differents path to follow with different enemies and obstacles in any of the paths choosen, so a serie of decisions to be taken and a graph will return different answers/options for the same problem.\n"
   ]
  },
  {
   "cell_type": "markdown",
   "id": "abba2abc",
   "metadata": {},
   "source": [
    "a-iii)Visualizing the decisions to be taken in a graph, help us have a clean vision and consequences of what we are doing because it will show all the possible solutions and you can choose the best one, it could be to get somewhere or to connect networks within a city, "
   ]
  },
  {
   "cell_type": "markdown",
   "id": "675d412d",
   "metadata": {},
   "source": [
    "b) Here is how we would find the shortest path using Dijkstra´s algorithm:\n",
    " First, we create a distance and a unvisited nodes list:\n",
    " Distance list: A = ∞, B = ∞, C = ∞, D = ∞, E = ∞, F = ∞, G = ∞, H = ∞, J = ∞,K =∞,L = ∞, M = ∞, N = ∞,P = ∞, Q = ∞, R = ∞,    S = ∞, T = ∞ , U = ∞, V = ∞, W = ∞. The infinite symbol means there are no limits of distance number, can be any value. \n",
    " Unvisited nodes: {A, B, C, D, E, F, G, H, J, K, L, M, N, P, Q, R, S, T, U, V, W}\n",
    " Next step is to set the start value to 0, which is A = 0, and check the distance to the connected nodes. \n",
    " "
   ]
  },
  {
   "cell_type": "code",
   "execution_count": 4,
   "id": "c667ff41",
   "metadata": {},
   "outputs": [
    {
     "data": {
      "text/html": [
       "<img src =\"Dijkstra´s algorithm 1 step.png\" width = 400, height = 100>\n"
      ],
      "text/plain": [
       "<IPython.core.display.HTML object>"
      ]
     },
     "metadata": {},
     "output_type": "display_data"
    }
   ],
   "source": [
    " %%html\n",
    "<img src =\"Dijkstra´s algorithm 1 step.png\" width = 400, height = 100>"
   ]
  },
  {
   "cell_type": "markdown",
   "id": "7d19c69c",
   "metadata": {},
   "source": [
    "Here we can visualize the current shortest distance from A to B, C and H. Keep in mind that this is not the final value and can change once we find a shortest distance. After we update our Unvisited Nodes, remove the A node and update the Distance List with our current value. Unvisited nodes: {B, C, D, E, F, G, H, J, K, L, M, N, P, Q, R, S, T, U, V, W} /  A = 0, B = 1, C = 5, D = ∞, E = ∞, F = ∞, G = ∞, H = 2, J = ∞,K =∞,L = ∞, M = ∞, N = ∞,P = ∞, Q = ∞, R = ∞, S = ∞, T = ∞ , U = ∞, V = ∞, W = ∞. That is your updated value. Next step is to choose another unvisited node and check nodes connected. I will choose B."
   ]
  },
  {
   "cell_type": "code",
   "execution_count": 5,
   "id": "917b8565",
   "metadata": {},
   "outputs": [
    {
     "data": {
      "text/html": [
       "<img src =\"Dijkstra´s algorithm 2 step.png\" width = 400, height = 100>\n"
      ],
      "text/plain": [
       "<IPython.core.display.HTML object>"
      ]
     },
     "metadata": {},
     "output_type": "display_data"
    }
   ],
   "source": [
    " %%html\n",
    "<img src =\"Dijkstra´s algorithm 2 step.png\" width = 400, height = 100>"
   ]
  },
  {
   "cell_type": "markdown",
   "id": "d3527346",
   "metadata": {},
   "source": [
    "Now we will check which nodes are connected and its distance value. B is connected to D and the distance value is 4 so we sum the value from A(0) > B(1) > C(4) = 5 and update the D value, and is connected to C. C is also connected to A with the current value of 5, but if we choose the node B to go to the Node C our value will be 3, giving us a shorter path, so we also update the C value in the distance list to 3. That is our updated Unvisited nodes and Distance List value: Unvisited nodes: {C, D, E, F, G, H, J, K, L, M, N, P, Q, R, S, T, U, V, W} / A = 0, B = 1, C = 3 or 5, D = 5, E = ∞, F = ∞, G = ∞, H = 2, J = ∞,K =∞,L = ∞, M = ∞, N = ∞,P = ∞, Q = ∞, R = ∞, S = ∞, T = ∞ , U = ∞, V = ∞, W = ∞"
   ]
  }
 ],
 "metadata": {
  "kernelspec": {
   "display_name": "Python 3 (ipykernel)",
   "language": "python",
   "name": "python3"
  },
  "language_info": {
   "codemirror_mode": {
    "name": "ipython",
    "version": 3
   },
   "file_extension": ".py",
   "mimetype": "text/x-python",
   "name": "python",
   "nbconvert_exporter": "python",
   "pygments_lexer": "ipython3",
   "version": "3.9.12"
  }
 },
 "nbformat": 4,
 "nbformat_minor": 5
}
