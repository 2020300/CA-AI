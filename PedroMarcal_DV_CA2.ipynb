{
 "cells": [
  {
   "cell_type": "markdown",
   "id": "2b36e546",
   "metadata": {},
   "source": [
    "## CA Artificial Intelligence\n",
    "\n",
    "Lecturer(s):\n",
    "Submission Date:\n",
    "Student Name:\n",
    "Student Email: \n",
    "Student Number:"
   ]
  },
  {
   "cell_type": "markdown",
   "id": "37a18762",
   "metadata": {},
   "source": [
    "### Introduction\n",
    "\n",
    "Analyse given graph and provide answer to the following question: \n",
    "\n",
    "1\n",
    "(a)\tThe graph in Fig. 1 is a visualisation of the problem. \n",
    "(i)\tIdentify the differences between a graph and a tree.\n",
    "(ii)\tExplain in detail how the graph is an abstraction of the problem.\n",
    "(iii)\tIdentify the advantages of using a visualisation such as the one shown in Fig. 1.\n",
    "(b)\tDemonstrate how Dijkstra’s algorithm would find the shortest path to the solution in Fig.1 through diagrams and written explanation of each stage.\n",
    "2\t\n",
    "The creator of the puzzle has been told that the A* algorithm is more efficient at finding the shortest path because it uses heuristics. Compare the performance of Dijkstra’s algorithm and the A* search algorithm, referring to heuristics, to find the shortest path to the problem by implementing both algorithms programmatically and comparing the solutions generated in Mark-down. Refer to the complexity of the algorithms and compare the actual time it takes for the solutions to be processed.\n",
    "\n"
   ]
  },
  {
   "cell_type": "markdown",
   "id": "63625274",
   "metadata": {},
   "source": [
    "### Tasks\n",
    "\n",
    "1\n",
    "https://www.geeksforgeeks.org/difference-between-graph-and-tree/\n",
    "https://www.quora.com/What-is-the-practical-application-of-trees-or-graphs-in-data-structures\n",
    "\n",
    "a-i) By definition, graph is a data structure compouded by vertices, or nodes and edges, that are what connect the vertices, graphs can be direct or indirect, which means that the edges can go a specific direction or not and can contain loops and cycles.\n",
    "Tree is a specific type of graph that also contains vertices and edges, this type of graph structure can only be connected, direct, it has to follow a standard point and without any loops or cycles.\n",
    "\n",
    "Graphs are applied in situations when trying to find how to get from point A to point B on the fastest time or how to connect something on the shortest way.\n",
    "Tree are applied in situations where there is hierarchy, such as Boss-Employee, and can be used to maintain sorted but changing collections of data since the structure allow you to search for existing values and insert new values. "
   ]
  },
  {
   "cell_type": "markdown",
   "id": "8852c19a",
   "metadata": {},
   "source": [
    "a-ii) In the graph, the problem created is, how do I get from the starting point, A, to the point S in order to achieve some task on the game. In terms of gaming, It means that cab have obstacles during the way, such as enemies, tasks and a lot of differents path to choose in order to arrive at our destination point, and the algorithm used, search algorithm, is useful when having to take a serie of decisions in order to get to the answer. It shows all the differents decisions that can be taken to get from point A to point S, it does not mean that is the better outcome but it can lead to a serie of different options that will give you different paths but same answers. "
   ]
  }
 ],
 "metadata": {
  "kernelspec": {
   "display_name": "Python 3 (ipykernel)",
   "language": "python",
   "name": "python3"
  },
  "language_info": {
   "codemirror_mode": {
    "name": "ipython",
    "version": 3
   },
   "file_extension": ".py",
   "mimetype": "text/x-python",
   "name": "python",
   "nbconvert_exporter": "python",
   "pygments_lexer": "ipython3",
   "version": "3.9.12"
  }
 },
 "nbformat": 4,
 "nbformat_minor": 5
}
