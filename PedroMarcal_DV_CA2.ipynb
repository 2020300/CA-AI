{
 "cells": [
  {
   "cell_type": "markdown",
   "id": "2b36e546",
   "metadata": {},
   "source": [
    "## CA Artificial Intelligence\n",
    "\n",
    "Lecturer(s):\n",
    "Submission Date:\n",
    "Student Name:\n",
    "Student Email: \n",
    "Student Number:"
   ]
  },
  {
   "cell_type": "markdown",
   "id": "37a18762",
   "metadata": {},
   "source": [
    "### Introduction\n",
    "\n",
    "Analyse given graph and provide answer to the following question: \n",
    "\n",
    "1\n",
    "(a)\tThe graph in Fig. 1 is a visualisation of the problem. \n",
    "(i)\tIdentify the differences between a graph and a tree.\n",
    "(ii)\tExplain in detail how the graph is an abstraction of the problem.\n",
    "(iii)\tIdentify the advantages of using a visualisation such as the one shown in Fig. 1.\n",
    "(b)\tDemonstrate how Dijkstra’s algorithm would find the shortest path to the solution in Fig.1 through diagrams and written explanation of each stage.\n",
    "2\t\n",
    "The creator of the puzzle has been told that the A* algorithm is more efficient at finding the shortest path because it uses heuristics. Compare the performance of Dijkstra’s algorithm and the A* search algorithm, referring to heuristics, to find the shortest path to the problem by implementing both algorithms programmatically and comparing the solutions generated in Mark-down. Refer to the complexity of the algorithms and compare the actual time it takes for the solutions to be processed.\n",
    "\n"
   ]
  },
  {
   "cell_type": "markdown",
   "id": "63625274",
   "metadata": {},
   "source": [
    "### Tasks\n",
    "\n",
    "1\n",
    "https://www.geeksforgeeks.org/difference-between-graph-and-tree/\n",
    "\n",
    "a-i) Graph is a collection of V, vertices, and E, edges where vertices are the nodes on the graph, such as \"0\", \"1\" or \"a\", \"b\". Graphs can be directed or indirected, which means that edges can all go in one direction or not, graphs can have cycles and loops, they have no fix starting node, you can start from any position. "
   ]
  }
 ],
 "metadata": {
  "kernelspec": {
   "display_name": "Python 3 (ipykernel)",
   "language": "python",
   "name": "python3"
  },
  "language_info": {
   "codemirror_mode": {
    "name": "ipython",
    "version": 3
   },
   "file_extension": ".py",
   "mimetype": "text/x-python",
   "name": "python",
   "nbconvert_exporter": "python",
   "pygments_lexer": "ipython3",
   "version": "3.9.12"
  }
 },
 "nbformat": 4,
 "nbformat_minor": 5
}
